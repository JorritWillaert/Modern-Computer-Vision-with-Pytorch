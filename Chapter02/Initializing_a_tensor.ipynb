{
 "cells": [
  {
   "cell_type": "markdown",
   "metadata": {
    "colab_type": "text",
    "id": "view-in-github"
   },
   "source": [
    "<a href=\"https://colab.research.google.com/github/PacktPublishing/Hands-On-Computer-Vision-with-PyTorch/blob/master/Chapter02/Initializing_a_tensor.ipynb\" target=\"_parent\"><img src=\"https://colab.research.google.com/assets/colab-badge.svg\" alt=\"Open In Colab\"/></a>"
   ]
  },
  {
   "cell_type": "code",
   "execution_count": 1,
   "metadata": {
    "ExecuteTime": {
     "end_time": "2020-09-25T19:01:20.140985Z",
     "start_time": "2020-09-25T19:01:19.854244Z"
    },
    "id": "ihh6_GZ3ZIY-"
   },
   "outputs": [
    {
     "name": "stderr",
     "output_type": "stream",
     "text": [
      "C:\\Users\\Jorrit\\Miniconda3\\lib\\site-packages\\numpy\\_distributor_init.py:32: UserWarning: loaded more than 1 DLL from .libs:\n",
      "C:\\Users\\Jorrit\\Miniconda3\\lib\\site-packages\\numpy\\.libs\\libopenblas.TXA6YQSD3GCQQC22GEQ54J2UDCXDXHWN.gfortran-win_amd64.dll\n",
      "C:\\Users\\Jorrit\\Miniconda3\\lib\\site-packages\\numpy\\.libs\\libopenblas.WCDJNK7YVMPZQ2ME2ZZHJJRJ3JIKNDB7.gfortran-win_amd64.dll\n",
      "  stacklevel=1)\n"
     ]
    }
   ],
   "source": [
    "import torch\n",
    "x = torch.tensor([[1,2]])\n",
    "y = torch.tensor([[1],[2]])"
   ]
  },
  {
   "cell_type": "code",
   "execution_count": 2,
   "metadata": {
    "ExecuteTime": {
     "end_time": "2020-09-25T19:01:20.144749Z",
     "start_time": "2020-09-25T19:01:20.142079Z"
    },
    "colab": {
     "base_uri": "https://localhost:8080/",
     "height": 68
    },
    "id": "Q3M5XCH9ZJ2c",
    "outputId": "6a17c9f7-69b5-40c7-8a35-b3daf6dbe60e"
   },
   "outputs": [
    {
     "name": "stdout",
     "output_type": "stream",
     "text": [
      "torch.Size([1, 2])\n",
      "torch.Size([2, 1])\n",
      "torch.int64\n"
     ]
    }
   ],
   "source": [
    "print(x.shape)\n",
    "# torch.Size([1,2]) # one entity of two items\n",
    "print(y.shape)\n",
    "# torch.Size([2,1]) # two entities of one item each\n",
    "print(x.dtype)\n",
    "# torch.int64"
   ]
  },
  {
   "cell_type": "code",
   "execution_count": 3,
   "metadata": {
    "ExecuteTime": {
     "end_time": "2020-09-25T19:01:20.149178Z",
     "start_time": "2020-09-25T19:01:20.146083Z"
    },
    "colab": {
     "base_uri": "https://localhost:8080/",
     "height": 34
    },
    "id": "BTEN4-yhZL4j",
    "outputId": "a753ca92-6614-4de1-bf7a-cbf331b87fd7"
   },
   "outputs": [
    {
     "name": "stdout",
     "output_type": "stream",
     "text": [
      "tensor([0., 1., 2.])\n"
     ]
    }
   ],
   "source": [
    "x = torch.tensor([False, 1, 2.0])\n",
    "print(x)\n",
    "# tensor([0., 1., 2.])"
   ]
  },
  {
   "cell_type": "code",
   "execution_count": 4,
   "metadata": {
    "ExecuteTime": {
     "end_time": "2020-09-25T19:01:20.156974Z",
     "start_time": "2020-09-25T19:01:20.150527Z"
    },
    "colab": {
     "base_uri": "https://localhost:8080/",
     "height": 68
    },
    "id": "csI_Z5TzZO3B",
    "outputId": "7401ad59-1a21-4d5a-c271-54a3036ebc0e"
   },
   "outputs": [
    {
     "data": {
      "text/plain": [
       "tensor([[0., 0., 0., 0.],\n",
       "        [0., 0., 0., 0.],\n",
       "        [0., 0., 0., 0.]])"
      ]
     },
     "execution_count": 4,
     "metadata": {},
     "output_type": "execute_result"
    }
   ],
   "source": [
    "torch.zeros((3, 4))"
   ]
  },
  {
   "cell_type": "code",
   "execution_count": 5,
   "metadata": {
    "ExecuteTime": {
     "end_time": "2020-09-25T19:01:20.161041Z",
     "start_time": "2020-09-25T19:01:20.157954Z"
    },
    "colab": {
     "base_uri": "https://localhost:8080/",
     "height": 68
    },
    "id": "nocW50iiZUHD",
    "outputId": "da76102a-8218-4ef5-d61a-e32de822431e"
   },
   "outputs": [
    {
     "data": {
      "text/plain": [
       "tensor([[1., 1., 1., 1.],\n",
       "        [1., 1., 1., 1.],\n",
       "        [1., 1., 1., 1.]])"
      ]
     },
     "execution_count": 5,
     "metadata": {},
     "output_type": "execute_result"
    }
   ],
   "source": [
    "torch.ones((3, 4))"
   ]
  },
  {
   "cell_type": "code",
   "execution_count": 6,
   "metadata": {
    "ExecuteTime": {
     "end_time": "2020-09-25T19:01:20.165239Z",
     "start_time": "2020-09-25T19:01:20.162169Z"
    },
    "colab": {
     "base_uri": "https://localhost:8080/",
     "height": 68
    },
    "id": "owSLyu6CZVke",
    "outputId": "5e155bca-c8b4-4613-a3c2-f50dd41c9beb"
   },
   "outputs": [
    {
     "data": {
      "text/plain": [
       "tensor([[6, 2, 5, 4],\n",
       "        [0, 0, 3, 5],\n",
       "        [7, 0, 0, 3]])"
      ]
     },
     "execution_count": 6,
     "metadata": {},
     "output_type": "execute_result"
    }
   ],
   "source": [
    "torch.randint(low=0, high=10, size=(3,4))"
   ]
  },
  {
   "cell_type": "code",
   "execution_count": 7,
   "metadata": {
    "ExecuteTime": {
     "end_time": "2020-09-25T19:01:20.169014Z",
     "start_time": "2020-09-25T19:01:20.166159Z"
    },
    "colab": {
     "base_uri": "https://localhost:8080/",
     "height": 68
    },
    "id": "3wz1iubjZXLn",
    "outputId": "2cba953d-6619-4845-97e9-5ea69c06068e"
   },
   "outputs": [
    {
     "data": {
      "text/plain": [
       "tensor([[0.9661, 0.7446, 0.9271, 0.8155],\n",
       "        [0.5383, 0.1401, 0.1325, 0.8331],\n",
       "        [0.4775, 0.9211, 0.4784, 0.0385]])"
      ]
     },
     "execution_count": 7,
     "metadata": {},
     "output_type": "execute_result"
    }
   ],
   "source": [
    "torch.rand(3, 4)"
   ]
  },
  {
   "cell_type": "code",
   "execution_count": 8,
   "metadata": {
    "ExecuteTime": {
     "end_time": "2020-09-25T19:01:20.174384Z",
     "start_time": "2020-09-25T19:01:20.170128Z"
    },
    "colab": {
     "base_uri": "https://localhost:8080/",
     "height": 68
    },
    "id": "_-_lniB8ZwuX",
    "outputId": "ac7f1f58-5dd8-423b-ffe2-4d4a050f3a72"
   },
   "outputs": [
    {
     "data": {
      "text/plain": [
       "tensor([[ 0.0433,  0.9649,  0.5338,  1.1886],\n",
       "        [-0.1712, -0.0949,  0.4884, -0.3145],\n",
       "        [ 0.8749, -0.1510, -0.1316,  0.7626]])"
      ]
     },
     "execution_count": 8,
     "metadata": {},
     "output_type": "execute_result"
    }
   ],
   "source": [
    "torch.randn((3,4))"
   ]
  },
  {
   "cell_type": "code",
   "execution_count": 9,
   "metadata": {
    "ExecuteTime": {
     "end_time": "2020-09-25T19:22:06.835458Z",
     "start_time": "2020-09-25T19:22:06.829580Z"
    },
    "id": "xCwiFIwk2Bu2",
    "outputId": "292de0d2-6604-4d2d-dc1c-b8b0967555fd"
   },
   "outputs": [
    {
     "name": "stdout",
     "output_type": "stream",
     "text": [
      "<class 'numpy.ndarray'> <class 'torch.Tensor'>\n"
     ]
    }
   ],
   "source": [
    "import numpy as np\n",
    "x = np.array([[10,20,30],[2,3,4]])\n",
    "y = torch.tensor(x)\n",
    "print(type(x), type(y))"
   ]
  },
  {
   "cell_type": "code",
   "execution_count": null,
   "metadata": {
    "id": "h1EJkME52Bu4"
   },
   "outputs": [],
   "source": []
  }
 ],
 "metadata": {
  "colab": {
   "include_colab_link": true,
   "name": "Initializing_a_tensor.ipynb",
   "provenance": []
  },
  "kernelspec": {
   "display_name": "Python 3",
   "language": "python",
   "name": "python3"
  },
  "language_info": {
   "codemirror_mode": {
    "name": "ipython",
    "version": 3
   },
   "file_extension": ".py",
   "mimetype": "text/x-python",
   "name": "python",
   "nbconvert_exporter": "python",
   "pygments_lexer": "ipython3",
   "version": "3.7.1"
  }
 },
 "nbformat": 4,
 "nbformat_minor": 1
}
